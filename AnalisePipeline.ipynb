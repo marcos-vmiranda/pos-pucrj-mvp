{
  "cells": [
    {
      "cell_type": "markdown",
      "metadata": {
        "id": "otEdveLq8Hn0"
      },
      "source": [
        "## Machine Learning\n",
        "### Fonte: Aula 03, prática 4 ( Recursos Avançados Aplicados ao Aprendizado Supervisionado)\n"
      ]
    },
    {
      "cell_type": "code",
      "execution_count": 1,
      "metadata": {
        "id": "RCn8CH4M7wF-"
      },
      "outputs": [],
      "source": [
        "# configuração para não exibir os warnings\n",
        "import warnings\n",
        "warnings.filterwarnings(\"ignore\")\n",
        "\n",
        "# Imports necessários\n",
        "import pandas as pd\n",
        "import numpy as np\n",
        "import matplotlib.pyplot as plt\n",
        "from sklearn.preprocessing import StandardScaler\n",
        "from sklearn.preprocessing import MinMaxScaler\n",
        "from sklearn.model_selection import train_test_split\n",
        "from sklearn.model_selection import KFold\n",
        "from sklearn.model_selection import StratifiedKFold\n",
        "from sklearn.model_selection import cross_val_score\n",
        "from sklearn.model_selection import GridSearchCV\n",
        "from sklearn.metrics import accuracy_score\n",
        "from sklearn.metrics import precision_score\n",
        "from sklearn.metrics import recall_score\n",
        "from sklearn.metrics import f1_score\n",
        "from sklearn.pipeline import Pipeline\n",
        "from sklearn.linear_model import LogisticRegression\n",
        "from sklearn.linear_model import LinearRegression\n",
        "from sklearn.linear_model import RidgeClassifier\n",
        "from sklearn.tree import DecisionTreeClassifier\n",
        "from sklearn.neighbors import KNeighborsClassifier\n",
        "from sklearn.naive_bayes import GaussianNB\n",
        "from sklearn.svm import SVC\n",
        "from sklearn.ensemble import BaggingClassifier\n",
        "from sklearn.ensemble import RandomForestClassifier\n",
        "from sklearn.ensemble import ExtraTreesClassifier\n",
        "from sklearn.ensemble import VotingClassifier\n",
        "from sklearn.ensemble import AdaBoostClassifier\n",
        "from sklearn.ensemble import GradientBoostingClassifier\n",
        "from sklearn.metrics import confusion_matrix, ConfusionMatrixDisplay\n",
        "from sklearn.metrics import classification_report"
      ]
    },
    {
      "cell_type": "markdown",
      "metadata": {
        "id": "2PcB0Efd-MS4"
      },
      "source": [
        "## Carga do Dataset"
      ]
    },
    {
      "cell_type": "code",
      "execution_count": 2,
      "metadata": {
        "colab": {
          "base_uri": "https://localhost:8080/",
          "height": 206
        },
        "id": "29AFuCPtvG_i",
        "outputId": "34ef3b38-211c-48a9-e153-1d2a8988f4c2"
      },
      "outputs": [
        {
          "data": {
            "text/html": [
              "<div>\n",
              "<style scoped>\n",
              "    .dataframe tbody tr th:only-of-type {\n",
              "        vertical-align: middle;\n",
              "    }\n",
              "\n",
              "    .dataframe tbody tr th {\n",
              "        vertical-align: top;\n",
              "    }\n",
              "\n",
              "    .dataframe thead th {\n",
              "        text-align: right;\n",
              "    }\n",
              "</style>\n",
              "<table border=\"1\" class=\"dataframe\">\n",
              "  <thead>\n",
              "    <tr style=\"text-align: right;\">\n",
              "      <th></th>\n",
              "      <th>Quantidade</th>\n",
              "      <th>DiaDaSemana</th>\n",
              "      <th>Turno</th>\n",
              "      <th>TipoFrete</th>\n",
              "      <th>TipoTransporte</th>\n",
              "      <th>OrdemViagem</th>\n",
              "      <th>PercAtraso</th>\n",
              "      <th>Atraso</th>\n",
              "    </tr>\n",
              "  </thead>\n",
              "  <tbody>\n",
              "    <tr>\n",
              "      <th>0</th>\n",
              "      <td>6</td>\n",
              "      <td>5</td>\n",
              "      <td>3</td>\n",
              "      <td>0</td>\n",
              "      <td>3</td>\n",
              "      <td>1</td>\n",
              "      <td>0.2</td>\n",
              "      <td>0</td>\n",
              "    </tr>\n",
              "    <tr>\n",
              "      <th>1</th>\n",
              "      <td>6</td>\n",
              "      <td>5</td>\n",
              "      <td>3</td>\n",
              "      <td>0</td>\n",
              "      <td>3</td>\n",
              "      <td>1</td>\n",
              "      <td>0.1</td>\n",
              "      <td>0</td>\n",
              "    </tr>\n",
              "    <tr>\n",
              "      <th>2</th>\n",
              "      <td>6</td>\n",
              "      <td>6</td>\n",
              "      <td>3</td>\n",
              "      <td>0</td>\n",
              "      <td>3</td>\n",
              "      <td>1</td>\n",
              "      <td>0.1</td>\n",
              "      <td>0</td>\n",
              "    </tr>\n",
              "    <tr>\n",
              "      <th>3</th>\n",
              "      <td>6</td>\n",
              "      <td>5</td>\n",
              "      <td>3</td>\n",
              "      <td>0</td>\n",
              "      <td>3</td>\n",
              "      <td>1</td>\n",
              "      <td>0.2</td>\n",
              "      <td>0</td>\n",
              "    </tr>\n",
              "    <tr>\n",
              "      <th>4</th>\n",
              "      <td>6</td>\n",
              "      <td>5</td>\n",
              "      <td>3</td>\n",
              "      <td>0</td>\n",
              "      <td>3</td>\n",
              "      <td>1</td>\n",
              "      <td>0.0</td>\n",
              "      <td>0</td>\n",
              "    </tr>\n",
              "  </tbody>\n",
              "</table>\n",
              "</div>"
            ],
            "text/plain": [
              "   Quantidade  DiaDaSemana  Turno  TipoFrete  TipoTransporte  OrdemViagem  \\\n",
              "0           6            5      3          0               3            1   \n",
              "1           6            5      3          0               3            1   \n",
              "2           6            6      3          0               3            1   \n",
              "3           6            5      3          0               3            1   \n",
              "4           6            5      3          0               3            1   \n",
              "\n",
              "   PercAtraso  Atraso  \n",
              "0         0.2       0  \n",
              "1         0.1       0  \n",
              "2         0.1       0  \n",
              "3         0.2       0  \n",
              "4         0.0       0  "
            ]
          },
          "execution_count": 2,
          "metadata": {},
          "output_type": "execute_result"
        }
      ],
      "source": [
        "# Informa a URL de importação do dataset\n",
        "#url = \"https://raw.githubusercontent.com/tatianaesc/datascience/main/diabetes.csv\"\n",
        "#url = \"https://github.com/marcos-vmiranda/pos-pucrj-mvp/blob/732bb70e9d90a4ebeac4e71f7ed4a645f6147fb6/atrasos_tratados.csv?raw=true\"\n",
        "url = \"c:/pos/MVP1/atrasos_tratados.csv\"\n",
        "\n",
        "# Lê o arquivo\n",
        "dataset = pd.read_csv(url, delimiter=',')\n",
        "\n",
        "# Mostra as primeiras linhas do dataset\n",
        "dataset.head()"
      ]
    },
    {
      "cell_type": "markdown",
      "metadata": {
        "id": "mE4-PIaTAfKX"
      },
      "source": [
        "## Separação em conjunto de treino e conjunto de teste com holdout"
      ]
    },
    {
      "cell_type": "code",
      "execution_count": 3,
      "metadata": {},
      "outputs": [
        {
          "name": "stdout",
          "output_type": "stream",
          "text": [
            "<class 'pandas.core.frame.DataFrame'>\n",
            "RangeIndex: 22807 entries, 0 to 22806\n",
            "Data columns (total 8 columns):\n",
            " #   Column          Non-Null Count  Dtype  \n",
            "---  ------          --------------  -----  \n",
            " 0   Quantidade      22807 non-null  int64  \n",
            " 1   DiaDaSemana     22807 non-null  int64  \n",
            " 2   Turno           22807 non-null  int64  \n",
            " 3   TipoFrete       22807 non-null  int64  \n",
            " 4   TipoTransporte  22807 non-null  int64  \n",
            " 5   OrdemViagem     22807 non-null  int64  \n",
            " 6   PercAtraso      22807 non-null  float64\n",
            " 7   Atraso          22807 non-null  int64  \n",
            "dtypes: float64(1), int64(7)\n",
            "memory usage: 1.4 MB\n",
            "Primeiras 5 linhas do vetor X\n",
            "[[6.  5.  3.  0.  3.  1.  0.2]\n",
            " [6.  5.  3.  0.  3.  1.  0.1]\n",
            " [6.  6.  3.  0.  3.  1.  0.1]\n",
            " [6.  5.  3.  0.  3.  1.  0.2]\n",
            " [6.  5.  3.  0.  3.  1.  0. ]]\n",
            "Primeiras 5 linhas do vetor y\n",
            "[0 0 0 ... 0 0 0]\n",
            "Distribuição das classes\n",
            "Atraso\n",
            "0    21036\n",
            "1     1771\n",
            "dtype: int64\n"
          ]
        }
      ],
      "source": [
        "array = dataset.values\n",
        "numCols = len(dataset.columns)\n",
        "X = array[:,0:numCols-1]\n",
        "y = array[:,numCols-1].astype(int)\n",
        "# exibe informações do dataset\n",
        "dataset.info()\n",
        "# imprime as primeira linha do array X e o vetor y\n",
        "print(\"Primeiras 5 linhas do vetor X\")\n",
        "print(X[0:5])\n",
        "print(\"Primeiras 5 linhas do vetor y\")\n",
        "print(y)\n",
        "# Verifica a distribuição das classes\n",
        "print(\"Distribuição das classes\")\n",
        "print(dataset.groupby('Atraso').size())"
      ]
    },
    {
      "cell_type": "code",
      "execution_count": 4,
      "metadata": {
        "id": "fEiAm3LEAfPt"
      },
      "outputs": [],
      "source": [
        "test_size = 0.20 # tamanho do conjunto de teste\n",
        "seed = 7 # semente aleatória\n",
        "\n",
        "# Separação em conjuntos de treino e teste\n",
        "array = dataset.values\n",
        "X = array[:,0:numCols-1]\n",
        "y = array[:,numCols-1]\n",
        "# Retirei o parâmetro stratify=y para evitar o erro 'The least populated class in y has only 1 member, which is too few. The minimum number of groups for any class cannot be less than 2.'\n",
        "X_train, X_test, y_train, y_test = train_test_split(X, y,\n",
        "    test_size=test_size, shuffle=True, random_state=seed, stratify=y) # holdout com estratificação\n",
        "\n",
        "# Parâmetros e partições da validação cruzada\n",
        "#scoring = 'accuracy'\n",
        "# O dataset está desbalanceado. Para tratar esse problema, será utilizado o parâmetro class_weight='balanced' em alguns modelos do modelo LogisticRegression.\n",
        "# É importante minimizar o falso positivo (classe 0 previsto como classe 1)\n",
        "# A métrica para minimizar o falso positivo é o recall da classe minoritária (classe 1)\n",
        "scoring = 'recall' # métrica para lidar com datasets desbalanceados\n",
        "num_particoes = 10\n",
        "kfold = StratifiedKFold(n_splits=num_particoes, shuffle=True, random_state=seed) # validação cruzada com estratificação"
      ]
    },
    {
      "cell_type": "markdown",
      "metadata": {
        "id": "f2OGe0DtAfU4"
      },
      "source": [
        "## Modelagem e Inferência"
      ]
    },
    {
      "cell_type": "markdown",
      "metadata": {
        "id": "pwHzQpbX9QQh"
      },
      "source": [
        "### Criação e avaliação de modelos: linha base"
      ]
    },
    {
      "cell_type": "code",
      "execution_count": 5,
      "metadata": {
        "colab": {
          "base_uri": "https://localhost:8080/",
          "height": 854
        },
        "id": "eAhfSnnIAfke",
        "outputId": "e912a3ba-17ed-48e0-8ee2-f7be04f3d715"
      },
      "outputs": [
        {
          "name": "stdout",
          "output_type": "stream",
          "text": [
            "LR: 0.028918 (0.015564)\n",
            "Ridge: 0.015513 (0.009864)\n",
            "LDA: nan (nan)\n",
            "KNN: 0.014824 (0.011979)\n",
            "CART: 0.128419 (0.016452)\n",
            "NB: 0.119259 (0.016771)\n",
            "SVM: 0.000000 (0.000000)\n"
          ]
        },
        {
          "data": {
            "image/png": "[encoded data removed]",
            "text/plain": [
              "<Figure size 1500x1000 with 1 Axes>"
            ]
          },
          "metadata": {},
          "output_type": "display_data"
        }
      ],
      "source": [
        "# Definindo uma semente global. Necessário para garantir reprodutibilidade dos resultados, \n",
        "# Faz com que os mesmos números aleatórios sejam gerados em todas as execuções.\n",
        "np.random.seed(7) # definindo uma semente global\n",
        "\n",
        "# Lista que armazenará os modelos\n",
        "models = []\n",
        "\n",
        "# Criando os modelos e adicionando-os na lista de modelos\n",
        "models.append(('LR', LogisticRegression()))\n",
        "models.append(('Ridge', RidgeClassifier()))\n",
        "models.append(('LDA', LinearRegression()))\n",
        "models.append(('KNN', KNeighborsClassifier()))\n",
        "models.append(('CART', DecisionTreeClassifier()))\n",
        "models.append(('NB', GaussianNB()))\n",
        "models.append(('SVM', SVC()))\n",
        "\n",
        "# Definindo os parâmetros do classificador base para o BaggingClassifier\n",
        "base = DecisionTreeClassifier()\n",
        "num_trees = 100\n",
        "max_features = 3\n",
        "\n",
        "# Criando os modelos para o VotingClassifier\n",
        "bases = []\n",
        "model1 = LogisticRegression()\n",
        "bases.append(('logistic', model1))\n",
        "model2 = DecisionTreeClassifier()\n",
        "bases.append(('cart', model2))\n",
        "model3 = SVC()\n",
        "bases.append(('svm', model3))\n",
        "\n",
        "# Criando os ensembles e adicionando-os na lista de modelos\n",
        "#models.append(('Bagging', BaggingClassifier(estimator=base, n_estimators=num_trees)))\n",
        "#models.append(('RF', RandomForestClassifier(n_estimators=num_trees, max_features=max_features)))\n",
        "#models.append(('ET', ExtraTreesClassifier(n_estimators=num_trees, max_features=max_features)))\n",
        "#models.append(('Ada', AdaBoostClassifier(n_estimators=num_trees)))\n",
        "#models.append(('GB', GradientBoostingClassifier(n_estimators=num_trees)))\n",
        "#models.append(('Voting', VotingClassifier(bases)))\n",
        "\n",
        "# Listas para armazenar os resultados\n",
        "results = []\n",
        "names = []\n",
        "\n",
        "# Avaliação dos modelos\n",
        "for name, model in models:\n",
        "    cv_results = cross_val_score(model, X_train, y_train, cv=kfold, scoring=scoring)\n",
        "    results.append(cv_results)\n",
        "    names.append(name)\n",
        "    msg = \"%s: %f (%f)\" % (name, cv_results.mean(), cv_results.std())\n",
        "    print(msg)\n",
        "\n",
        "# Boxplot de comparação dos modelos\n",
        "fig = plt.figure(figsize=(15,10))\n",
        "fig.suptitle('Comparação dos Modelos')\n",
        "ax = fig.add_subplot(111)\n",
        "plt.boxplot(results)\n",
        "ax.set_xticklabels(names)\n",
        "plt.show()"
      ]
    },
    {
      "cell_type": "markdown",
      "metadata": {
        "id": "olo7SPk2BvvW"
      },
      "source": [
        "### Criação e avaliação de modelos: dados padronizados e normalizados"
      ]
    },
    {
      "cell_type": "code",
      "execution_count": null,
      "metadata": {
        "colab": {
          "base_uri": "https://localhost:8080/",
          "height": 1000
        },
        "id": "hmQbiYQdBRDW",
        "outputId": "c0c16336-31ba-4dc3-937a-15e07f1d8de1"
      },
      "outputs": [],
      "source": [
        "np.random.seed(7) # definindo uma semente global para este bloco\n",
        "\n",
        "# Listas para armazenar os armazenar os pipelines e os resultados para todas as visões do dataset\n",
        "pipelines = []\n",
        "results = []\n",
        "names = []\n",
        "\n",
        "\n",
        "# Criando os elementos do pipeline\n",
        "\n",
        "# Algoritmos que serão utilizados\n",
        "reg_log = ('LR', LogisticRegression(max_iter=200))\n",
        "knn = ('KNN', KNeighborsClassifier())\n",
        "cart = ('CART', DecisionTreeClassifier())\n",
        "naive_bayes = ('NB', GaussianNB())\n",
        "svm = ('SVM', SVC())\n",
        "bagging = ('Bag', BaggingClassifier(estimator=base, n_estimators=num_trees))\n",
        "random_forest = ('RF', RandomForestClassifier(n_estimators=num_trees, max_features=max_features))\n",
        "extra_trees = ('ET', ExtraTreesClassifier(n_estimators=num_trees, max_features=max_features))\n",
        "adaboost = ('Ada', AdaBoostClassifier(n_estimators=num_trees))\n",
        "gradient_boosting = ('GB', GradientBoostingClassifier(n_estimators=num_trees))\n",
        "voting = ('Voting', VotingClassifier(bases))\n",
        "\n",
        "# Transformações que serão utilizadas\n",
        "standard_scaler = ('StandardScaler', StandardScaler())\n",
        "min_max_scaler = ('MinMaxScaler', MinMaxScaler())\n",
        "\n",
        "\n",
        "# Montando os pipelines\n",
        "\n",
        "# Dataset original\n",
        "pipelines.append(('LR-orig', Pipeline([reg_log])))\n",
        "pipelines.append(('KNN-orig', Pipeline([knn])))\n",
        "pipelines.append(('CART-orig', Pipeline([cart])))\n",
        "pipelines.append(('NB-orig', Pipeline([naive_bayes])))\n",
        "pipelines.append(('SVM-orig', Pipeline([svm])))\n",
        "pipelines.append(('Bag-orig', Pipeline([bagging])))\n",
        "pipelines.append(('RF-orig', Pipeline([random_forest])))\n",
        "pipelines.append(('ET-orig', Pipeline([extra_trees])))\n",
        "pipelines.append(('Ada-orig', Pipeline([adaboost])))\n",
        "pipelines.append(('GB-orig', Pipeline([gradient_boosting])))\n",
        "pipelines.append(('Vot-orig', Pipeline([voting])))\n",
        "\n",
        "# Dataset Padronizado\n",
        "pipelines.append(('LR-padr', Pipeline([standard_scaler, reg_log])))\n",
        "pipelines.append(('KNN-padr', Pipeline([standard_scaler, knn])))\n",
        "pipelines.append(('CART-padr', Pipeline([standard_scaler, cart])))\n",
        "pipelines.append(('NB-padr', Pipeline([standard_scaler, naive_bayes])))\n",
        "pipelines.append(('SVM-padr', Pipeline([standard_scaler, svm])))\n",
        "pipelines.append(('Bag-padr', Pipeline([standard_scaler, bagging])))\n",
        "pipelines.append(('RF-padr', Pipeline([standard_scaler, random_forest])))\n",
        "pipelines.append(('ET-padr', Pipeline([standard_scaler, extra_trees])))\n",
        "pipelines.append(('Ada-padr', Pipeline([standard_scaler, adaboost])))\n",
        "pipelines.append(('GB-padr', Pipeline([standard_scaler, gradient_boosting])))\n",
        "pipelines.append(('Vot-padr', Pipeline([standard_scaler, voting])))\n",
        "\n",
        "# Dataset Normalizado\n",
        "pipelines.append(('LR-norm', Pipeline([min_max_scaler, reg_log])))\n",
        "pipelines.append(('KNN-norm', Pipeline([min_max_scaler, knn])))\n",
        "pipelines.append(('CART-norm', Pipeline([min_max_scaler, cart])))\n",
        "pipelines.append(('NB-norm', Pipeline([min_max_scaler, naive_bayes])))\n",
        "pipelines.append(('SVM-norm', Pipeline([min_max_scaler, svm])))\n",
        "pipelines.append(('Bag-norm', Pipeline([min_max_scaler, bagging])))\n",
        "pipelines.append(('RF-norm', Pipeline([min_max_scaler, random_forest])))\n",
        "pipelines.append(('ET-norm', Pipeline([min_max_scaler, extra_trees])))\n",
        "pipelines.append(('Ada-norm', Pipeline([min_max_scaler, adaboost])))\n",
        "pipelines.append(('GB-norm', Pipeline([min_max_scaler, gradient_boosting])))\n",
        "pipelines.append(('Vot-norm', Pipeline([min_max_scaler, voting])))\n",
        "\n",
        "# Executando os pipelines\n",
        "for name, model in pipelines:\n",
        "    cv_results = cross_val_score(model, X_train, y_train, cv=kfold, scoring=scoring)\n",
        "    results.append(cv_results)\n",
        "    names.append(name)\n",
        "    msg = \"%s: %.3f (%.3f)\" % (name, cv_results.mean(), cv_results.std()) # formatando para 3 casas decimais\n",
        "    print(msg)\n",
        "\n",
        "# Boxplot de comparação dos modelos\n",
        "fig = plt.figure(figsize=(25,6))\n",
        "fig.suptitle('Comparação dos Modelos - Dataset orginal, padronizado e normalizado')\n",
        "ax = fig.add_subplot(111)\n",
        "plt.boxplot(results)\n",
        "ax.set_xticklabels(names, rotation=90)\n",
        "plt.show()"
      ]
    },
    {
      "cell_type": "markdown",
      "metadata": {
        "id": "f-f2vCU5CMmp"
      },
      "source": [
        "### Otimização dos hiperparâmetros"
      ]
    },
    {
      "cell_type": "code",
      "execution_count": null,
      "metadata": {
        "colab": {
          "base_uri": "https://localhost:8080/"
        },
        "id": "jBSDgpXNt1Fp",
        "outputId": "c54a1a17-099b-46b9-cef8-8622acce8379"
      },
      "outputs": [],
      "source": [
        "# Tuning do KNN\n",
        "\n",
        "np.random.seed(7) # definindo uma semente global para este bloco\n",
        "\n",
        "pipelines = []\n",
        "\n",
        "# Definindo os componentes do pipeline\n",
        "knn = ('KNN', KNeighborsClassifier())\n",
        "standard_scaler = ('StandardScaler', StandardScaler())\n",
        "min_max_scaler = ('MinMaxScaler', MinMaxScaler())\n",
        "\n",
        "pipelines.append(('knn-orig', Pipeline(steps=[knn])))\n",
        "#pipelines.append(('knn-padr', Pipeline(steps=[standard_scaler, knn])))\n",
        "#pipelines.append(('knn-norm', Pipeline(steps=[min_max_scaler, knn])))\n",
        "\n",
        "param_grid = {\n",
        "    'KNN__n_neighbors': [1,3,5,7,9,11,13,15,17,19,21],\n",
        "    'KNN__metric': [\"euclidean\", \"manhattan\", \"minkowski\"],\n",
        "}\n",
        "\n",
        "# Prepara e executa o GridSearchCV\n",
        "for name, model in pipelines:\n",
        "    grid = GridSearchCV(estimator=model, param_grid=param_grid, scoring=scoring, cv=kfold)\n",
        "    grid.fit(X_train, y_train)\n",
        "    # imprime a melhor configuração\n",
        "    print(\"Sem tratamento de missings: %s - Melhor: %f usando %s\" % (name, grid.best_score_, grid.best_params_))"
      ]
    },
    {
      "cell_type": "code",
      "execution_count": null,
      "metadata": {},
      "outputs": [],
      "source": [
        "# Tuning do Logistic Regression\n",
        "\n",
        "np.random.seed(7) # definindo uma semente global para este bloco\n",
        "\n",
        "pipelines = []\n",
        "\n",
        "# Definindo os componentes do pipeline\n",
        "log_reg = ('LogisticRegression', LogisticRegression())\n",
        "standard_scaler = ('StandardScaler', StandardScaler())\n",
        "min_max_scaler = ('MinMaxScaler', MinMaxScaler())\n",
        "\n",
        "pipelines.append(('log_reg-orig', Pipeline(steps=[log_reg])))\n",
        "#pipelines.append(('log_reg-padr', Pipeline(steps=[standard_scaler, log_reg])))\n",
        "#pipelines.append(('log_reg-norm', Pipeline(steps=[min_max_scaler, log_reg])))\n",
        "\n",
        "param_grid = {\n",
        "    'LogisticRegression__C': [0.001, 0.01, 0.1, 1, 10],\n",
        "    'LogisticRegression__penalty': ['l1', 'l2'],\n",
        "    'LogisticRegression__solver': ['flbfgs','liblinear'],\n",
        "    'LogisticRegression__max_iter': [100, 200],\n",
        "    #'LogisticRegression__class_weight': [None, 'balanced'],    \n",
        "}\n",
        "\n",
        "# Prepara e executa o GridSearchCV\n",
        "for name, model in pipelines:\n",
        "    grid = GridSearchCV(estimator=model, param_grid=param_grid, scoring=scoring, cv=kfold)\n",
        "    grid.fit(X_train, y_train)\n",
        "    # imprime a melhor configuração\n",
        "    print(\"Sem tratamento de missings: %s - Melhor: %f usando %s\" % (name, grid.best_score_, grid.best_params_))"
      ]
    },
    {
      "cell_type": "code",
      "execution_count": null,
      "metadata": {},
      "outputs": [],
      "source": [
        "# Tuning do Naive bayes\n",
        "\n",
        "np.random.seed(7) # definindo uma semente global para este bloco\n",
        "\n",
        "pipelines = []\n",
        "\n",
        "# Definindo os componentes do pipeline\n",
        "nb = ('NB', GaussianNB())\n",
        "standard_scaler = ('StandardScaler', StandardScaler())\n",
        "min_max_scaler = ('MinMaxScaler', MinMaxScaler())\n",
        "\n",
        "pipelines.append(('nb-orig', Pipeline(steps=[nb])))\n",
        "#pipelines.append(('nb-padr', Pipeline(steps=[standard_scaler, nb])))\n",
        "#pipelines.append(('nb-norm', Pipeline(steps=[min_max_scaler, nb])))\n",
        "\n",
        "param_grid = {\n",
        "    'NB__var_smoothing': np.logspace(0,-9, num=100)\n",
        "    \n",
        "}\n",
        "\n",
        "# Prepara e executa o GridSearchCV\n",
        "for name, model in pipelines:\n",
        "    grid = GridSearchCV(estimator=model, param_grid=param_grid, scoring=scoring, cv=kfold)\n",
        "    grid.fit(X_train, y_train)\n",
        "    # imprime a melhor configuração\n",
        "    print(\"Sem tratamento de missings: %s - Melhor: %f usando %s\" % (name, grid.best_score_, grid.best_params_))"
      ]
    },
    {
      "cell_type": "markdown",
      "metadata": {
        "id": "cuUpaYcwDRDt"
      },
      "source": [
        "## Finalização do Modelo"
      ]
    },
    {
      "cell_type": "code",
      "execution_count": null,
      "metadata": {},
      "outputs": [],
      "source": [
        "# Tuning do Extra Trees\n",
        "\n",
        "np.random.seed(7) # definindo uma semente global para este bloco\n",
        "\n",
        "pipelines = []\n",
        "\n",
        "# Definindo os componentes do pipeline\n",
        "ET = ('ET', ExtraTreesClassifier())\n",
        "standard_scaler = ('StandardScaler', StandardScaler())\n",
        "min_max_scaler = ('MinMaxScaler', MinMaxScaler())\n",
        "\n",
        "pipelines.append(('ET-orig', Pipeline(steps=[ET])))\n",
        "#pipelines.append(('nb-padr', Pipeline(steps=[standard_scaler, nb])))\n",
        "#pipelines.append(('nb-norm', Pipeline(steps=[min_max_scaler, nb])))\n",
        "\n",
        "param_grid = {\n",
        "    'ET__n_estimators': [50, 100, 200],\n",
        "    'ET__max_features': [1, 2, 3],\n",
        "    'ET__min_samples_split': [2, 5, 10]    \n",
        "}\n",
        "\n",
        "# Prepara e executa o GridSearchCV\n",
        "for name, model in pipelines:\n",
        "    grid = GridSearchCV(estimator=model, param_grid=param_grid, scoring=scoring, cv=kfold)\n",
        "    grid.fit(X_train, y_train)\n",
        "    # imprime a melhor configuração\n",
        "    print(\"Sem tratamento de missings: %s - Melhor: %f usando %s\" % (name, grid.best_score_, grid.best_params_))"
      ]
    },
    {
      "cell_type": "code",
      "execution_count": null,
      "metadata": {},
      "outputs": [],
      "source": [
        "# Tuning do Gradient Boosting\n",
        "\n",
        "np.random.seed(7) # definindo uma semente global para este bloco\n",
        "\n",
        "pipelines = []\n",
        "\n",
        "# Definindo os componentes do pipeline\n",
        "GB = ('GB', GradientBoostingClassifier())\n",
        "standard_scaler = ('StandardScaler', StandardScaler())\n",
        "min_max_scaler = ('MinMaxScaler', MinMaxScaler())\n",
        "\n",
        "pipelines.append(('GB-orig', Pipeline(steps=[GB])))\n",
        "#pipelines.append(('nb-padr', Pipeline(steps=[standard_scaler, nb])))\n",
        "#pipelines.append(('nb-norm', Pipeline(steps=[min_max_scaler, nb])))\n",
        "\n",
        "param_grid = {\n",
        "    'GB__n_estimators': [50, 100, 200],\n",
        "    'GB__max_features': [1, 2, 3],\n",
        "    'GB__min_samples_split': [2, 5, 10]    \n",
        "}\n",
        "\n",
        "# Prepara e executa o GridSearchCV\n",
        "for name, model in pipelines:\n",
        "    grid = GridSearchCV(estimator=model, param_grid=param_grid, scoring=scoring, cv=kfold)\n",
        "    grid.fit(X_train, y_train)\n",
        "    # imprime a melhor configuração\n",
        "    print(\"Sem tratamento de missings: %s - Melhor: %f usando %s\" % (name, grid.best_score_, grid.best_params_))"
      ]
    },
    {
      "cell_type": "code",
      "execution_count": null,
      "metadata": {},
      "outputs": [],
      "source": [
        "# Tuning do Ada Boosting\n",
        "\n",
        "np.random.seed(7) # definindo uma semente global para este bloco\n",
        "\n",
        "pipelines = []\n",
        "\n",
        "# Definindo os componentes do pipeline\n",
        "AD = ('AD', AdaBoostClassifier())\n",
        "standard_scaler = ('StandardScaler', StandardScaler())\n",
        "min_max_scaler = ('MinMaxScaler', MinMaxScaler())\n",
        "\n",
        "pipelines.append(('AD-orig', Pipeline(steps=[AD])))\n",
        "#pipelines.append(('nb-padr', Pipeline(steps=[standard_scaler, nb])))\n",
        "#pipelines.append(('nb-norm', Pipeline(steps=[min_max_scaler, nb])))\n",
        "\n",
        "param_grid = {\n",
        "    'AD__n_estimators': [50, 100, 200],\n",
        "    'AD__learning_rate': [0.01, 0.1, 1.0]\n",
        "}\n",
        "\n",
        "# Prepara e executa o GridSearchCV\n",
        "for name, model in pipelines:\n",
        "    grid = GridSearchCV(estimator=model, param_grid=param_grid, scoring=scoring, cv=kfold)\n",
        "    grid.fit(X_train, y_train)\n",
        "    # imprime a melhor configuração\n",
        "    print(\"Sem tratamento de missings: %s - Melhor: %f usando %s\" % (name, grid.best_score_, grid.best_params_))"
      ]
    },
    {
      "cell_type": "code",
      "execution_count": null,
      "metadata": {
        "colab": {
          "base_uri": "https://localhost:8080/"
        },
        "id": "lbrFxAbSDVIj",
        "outputId": "9c539faf-590f-494f-bcf6-e8ab4fd8c5d7"
      },
      "outputs": [],
      "source": [
        "# Avaliação do modelo com o conjunto de testes\n",
        "\n",
        "# Preparação do modelo\n",
        "#scaler = StandardScaler().fit(X_train) # ajuste do scaler com o conjunto de treino\n",
        "#rescaledX = scaler.transform(X_train) # aplicação da padronização no conjunto de treino\n",
        "model = LogisticRegression(max_iter=100,C=0.1,penalty='l2',solver='liblinear',class_weight='balanced')\n",
        "#model = GaussianNB(var_smoothing=np.float64(1.873817422860383e-05))\n",
        "#model = KNeighborsClassifier(metric='euclidean', n_neighbors=11)\n",
        "#model = ExtraTreesClassifier(n_estimators=50, max_features=1, min_samples_split=10)\n",
        "#model = GradientBoostingClassifier(n_estimators=50, max_features=1, min_samples_split=10)\n",
        "#model = AdaBoostClassifier(n_estimators=100, learning_rate=1.0)\n",
        "#model.fit(rescaledX, y_train)\n",
        "model.fit(X_train, y_train)\n",
        "\n",
        "# Estimativa da acurácia no conjunto de teste\n",
        "#rescaledTestX = scaler.transform(X_test) # aplicação da padronização no conjunto de teste\n",
        "predictions = model.predict(X_test)\n",
        "print(\"accuracy: \" + str(accuracy_score(y_test, predictions)))\n",
        "#print(\"precision: \" + str(precision_score(y_test, predictions,average='weighted')))\n",
        "print(\"precision: \" + str(precision_score(y_test, predictions,average='binary', pos_label=1)))\n",
        "print(\"recall: \" + str(recall_score(y_test, predictions,average='binary', pos_label=1)))\n",
        "print(\"f1: \" + str(f1_score(y_test, predictions,average='binary', pos_label=1)))\n",
        "\n",
        "# Exibe a matriz de confusão\n",
        "print(\"Matriz de confusão:\")\n",
        "print(confusion_matrix(y_test, predictions))\n"
      ]
    },
    {
      "cell_type": "code",
      "execution_count": null,
      "metadata": {
        "colab": {
          "base_uri": "https://localhost:8080/"
        },
        "id": "iGeQHmeg4ziu",
        "outputId": "b025bf90-0341-4108-9b72-0532296fce37"
      },
      "outputs": [],
      "source": [
        "# Preparação do modelo com TODO o dataset\n",
        "#scaler = StandardScaler().fit(X) # ajuste do scaler com TODO o dataset\n",
        "#rescaledX = scaler.transform(X) # aplicação da padronização com TODO o dataset\n",
        "model.fit(X, y)"
      ]
    },
    {
      "cell_type": "markdown",
      "metadata": {
        "id": "xZ-FQWZj_OtQ"
      },
      "source": [
        "## Simulando a aplicação do modelo em dados não vistos"
      ]
    },
    {
      "cell_type": "code",
      "execution_count": null,
      "metadata": {},
      "outputs": [],
      "source": [
        "# Teste com novos dados - julho/2025\n",
        "# Lê o arquivo\n",
        "#url = \"https://github.com/marcos-vmiranda/pos-pucrj-mvp/blob/732bb70e9d90a4ebeac4e71f7ed4a645f6147fb6/atrasos_julho_tratados.csv?raw=true\"\n",
        "url = \"c:/pos/MVP1/atrasos_julho_tratados.csv\"\n",
        "datasetTest = pd.read_csv(url, delimiter=',')\n",
        "print(datasetTest.info())\n",
        "\n",
        "print(\"Distribuição das classes\")\n",
        "print(datasetTest.groupby('Atraso').size())\n",
        "\n",
        "array = datasetTest.values\n",
        "#array = array[array[:,numCols-1] == 0] # Varre o data dataset e cria um array somente com as linhas cuja coluna 7 sejam maiores que 0\n",
        "print(array[0:5])\n",
        "\n",
        "X_test = array[:,0:numCols-1]\n",
        "y_test = array[:,numCols-1].astype(int)\n",
        "predictions = model.predict(X_test).astype(int)\n",
        "\n",
        "print(\"y_test:      \" + str(y_test[0:20]) )\n",
        "print(\"predictions: \" + str(predictions[0:20]))\n",
        "\n",
        "print(\"accuracy: \" + str(accuracy_score(y_test, predictions)))\n",
        "print(\"precision: \" + str(precision_score(y_test, predictions)))\n",
        "print(\"recall: \" + str(recall_score(y_test, predictions)))\n",
        "print(\"f1: \" + str(f1_score(y_test, predictions)))\n",
        "\n",
        "# Exibe a matriz de confusão\n",
        "print(\"Matriz de confusão:\")\n",
        "cm=confusion_matrix(y_test, predictions)\n",
        "disp = ConfusionMatrixDisplay(confusion_matrix=cm, display_labels=['Sem atraso', 'Com atraso'])\n",
        "disp.plot()\n",
        "plt.show()\n",
        "\n",
        "print()\n",
        "# Exibe o relatório de classificação\n",
        "print(\"Relatório de Classificação:\")\n",
        "print(classification_report(y_test, predictions, target_names=['Sem atraso', 'Com atraso']))"
      ]
    },
    {
      "cell_type": "code",
      "execution_count": null,
      "metadata": {},
      "outputs": [],
      "source": [
        "# Novos dados\n",
        "data = {'Quantidade':  [1, 3, 6, 4],\n",
        "        'DiaDaSemana': [0, 1, 2, 4],\n",
        "        'Turno': [0, 1, 3, 3],\n",
        "        'TipoFrete': [0, 0, 1, 1],\n",
        "        'TipoTransporte': [1, 1, 1, 1],\n",
        "        'OrdemViagem': [1, 2, 1, 1],\n",
        "        'PercAtraso': [0.0, 0.2, 0.2, 0]\n",
        "        }\n",
        "\n",
        "atributos = ['Quantidade', 'DiaDaSemana', 'Turno', 'TipoFrete', 'TipoTransporte', 'OrdemViagem', 'PercAtraso']\n",
        "entrada = pd.DataFrame(data, columns=atributos)\n",
        "\n",
        "array_entrada = entrada.values\n",
        "X_entrada = array_entrada[:,0:numCols-1].astype(float)\n",
        "X_entrada = [[6.,  2.,  3.,  0.,  3.,  1.,  0.5 ]]\n",
        "\n",
        "print(\"Novos dados:\")\n",
        "print(X_entrada)\n",
        "# Padronização nos dados de entrada usando o scaler utilizado em X\n",
        "#rescaledEntradaX = scaler.transform(X_entrada)\n",
        "#print(rescaledEntradaX)\n",
        "\n",
        "# Predição de classes dos dados de entrada\n",
        "print(\"Predições para os novos dados:\")\n",
        "saidas = model.predict(X_entrada)\n",
        "print(saidas)"
      ]
    }
  ],
  "metadata": {
    "colab": {
      "collapsed_sections": [
        "mE4-PIaTAfKX"
      ],
      "provenance": []
    },
    "kernelspec": {
      "display_name": "Python 3",
      "name": "python3"
    },
    "language_info": {
      "codemirror_mode": {
        "name": "ipython",
        "version": 3
      },
      "file_extension": ".py",
      "mimetype": "text/x-python",
      "name": "python",
      "nbconvert_exporter": "python",
      "pygments_lexer": "ipython3",
      "version": "3.12.10"
    }
  },
  "nbformat": 4,
  "nbformat_minor": 0
}
